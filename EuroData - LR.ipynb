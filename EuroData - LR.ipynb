{
 "cells": [
  {
   "cell_type": "code",
   "execution_count": 31,
   "metadata": {
    "collapsed": false
   },
   "outputs": [
    {
     "name": "stdout",
     "output_type": "stream",
     "text": [
      "Populating the interactive namespace from numpy and matplotlib\n"
     ]
    },
    {
     "name": "stderr",
     "output_type": "stream",
     "text": [
      "WARNING: pylab import has clobbered these variables: ['half']\n",
      "`%matplotlib` prevents importing * from pylab and numpy\n"
     ]
    }
   ],
   "source": [
    "import math\n",
    "import numpy as np\n",
    "import pandas as pd\n",
    "# this gives us the data scaling we want to use on features\n",
    "# which we generally want to scale between 1 and -1\n",
    "from sklearn import preprocessing, cross_validation, svm\n",
    "from sklearn.linear_model import LinearRegression\n",
    "import warnings\n",
    "warnings.filterwarnings('ignore')\n",
    "%pylab inline\n",
    "import matplotlib.pyplot as plt\n",
    "import matplotlib.dates as mdates\n",
    "from matplotlib import style\n",
    "style.use('fivethirtyeight')"
   ]
  },
  {
   "cell_type": "code",
   "execution_count": 17,
   "metadata": {
    "collapsed": true
   },
   "outputs": [],
   "source": [
    "# load files with pandas\n",
    "euro = pd.read_csv('euroFREDcsv.csv', usecols=[0,1])\n",
    "spx = pd.read_csv('sp500FREDcsv.csv', usecols=[0,1])\n",
    "yen = pd.read_csv('yenFREDcsv.csv', usecols=[0,1])"
   ]
  },
  {
   "cell_type": "code",
   "execution_count": 18,
   "metadata": {
    "collapsed": false
   },
   "outputs": [],
   "source": [
    "# put column names on the data\n",
    "euro.columns = ['Date','Price']\n",
    "spx.columns = ['Date','Price']\n",
    "yen.columns = ['Date','Price']\n",
    "# get rid of non-zero values\n",
    "euroclean = euro[euro['Price'] > 0]\n",
    "spxclean = spx[spx['Price'] > 0]\n",
    "yenclean = yen[yen['Price'] > 0]\n",
    "# create an array (\"datearray\") of dates where there is overlap\n",
    "datearray = np.intersect1d(euroclean['Date'],spxclean['Date'])\n",
    "datearray = np.intersect1d(datearray,yenclean['Date'])\n",
    "datearray = pd.to_datetime(datearray)"
   ]
  },
  {
   "cell_type": "code",
   "execution_count": 23,
   "metadata": {
    "collapsed": false
   },
   "outputs": [],
   "source": [
    "# recast the data column as a datetime object\n",
    "yenclean['Date'] = pd.to_datetime(yenclean['Date'])\n",
    "euroclean['Date'] = pd.to_datetime(euroclean['Date'])\n",
    "spxclean['Date'] = pd.to_datetime(spxclean['Date'])\n",
    "# re-index the series to the date\n",
    "yenclean.index = pd.DatetimeIndex(yenclean['Date'])\n",
    "euroclean.index = pd.DatetimeIndex(euroclean['Date'])\n",
    "spxclean.index = pd.DatetimeIndex(spxclean['Date'])"
   ]
  },
  {
   "cell_type": "code",
   "execution_count": 24,
   "metadata": {
    "collapsed": false
   },
   "outputs": [],
   "source": [
    "# now get the values of the data corresponding to the datearray dates\n",
    "# .ix returns values at locations where indices = to value in datearray\n",
    "df = pd.DataFrame({\"Euro\":euroclean.ix[datearray]['Price'],\"Yen\":yenclean.ix[datearray]['Price'],\"Spx\":spxclean.ix[datearray]['Price']},index=datearray)"
   ]
  },
  {
   "cell_type": "code",
   "execution_count": 25,
   "metadata": {
    "collapsed": false
   },
   "outputs": [
    {
     "name": "stdout",
     "output_type": "stream",
     "text": [
      "Populating the interactive namespace from numpy and matplotlib\n"
     ]
    },
    {
     "data": {
      "text/plain": [
       "<matplotlib.axes._subplots.AxesSubplot at 0xa5e6ac8>"
      ]
     },
     "execution_count": 25,
     "metadata": {},
     "output_type": "execute_result"
    },
    {
     "data": {
      "image/png": "[encoded data removed]",
      "text/plain": [
       "<matplotlib.figure.Figure at 0x9895470>"
      ]
     },
     "metadata": {},
     "output_type": "display_data"
    }
   ],
   "source": [
    "%pylab inline\n",
    "df.plot()"
   ]
  },
  {
   "cell_type": "code",
   "execution_count": 26,
   "metadata": {
    "collapsed": false
   },
   "outputs": [],
   "source": [
    "# create %price change feature\n",
    "df['Eurochg'] = df['Euro'].pct_change()\n",
    "df['Yenchg'] = df['Yen'].pct_change()\n",
    "df['Spxchg'] = df['Spx'].pct_change()\n",
    "# create a dataframe to hold all the price changes\n",
    "changes = pd.DataFrame({'Eurochg': df.ix[datearray]['Eurochg'],\"Yenchg\":df.ix[datearray]['Yenchg'],\"Spxchg\":df.ix[datearray]['Spxchg']},index=datearray)"
   ]
  },
  {
   "cell_type": "code",
   "execution_count": 27,
   "metadata": {
    "collapsed": false
   },
   "outputs": [
    {
     "data": {
      "text/html": [
       "<div>\n",
       "<table border=\"1\" class=\"dataframe\">\n",
       "  <thead>\n",
       "    <tr style=\"text-align: right;\">\n",
       "      <th></th>\n",
       "      <th>Euro</th>\n",
       "      <th>Spx</th>\n",
       "      <th>Yen</th>\n",
       "      <th>Eurochg</th>\n",
       "      <th>Yenchg</th>\n",
       "      <th>Spxchg</th>\n",
       "    </tr>\n",
       "  </thead>\n",
       "  <tbody>\n",
       "    <tr>\n",
       "      <th>2006-06-09</th>\n",
       "      <td>1.2636</td>\n",
       "      <td>1252.30</td>\n",
       "      <td>113.89</td>\n",
       "      <td>-0.000949</td>\n",
       "      <td>-0.002889</td>\n",
       "      <td>-0.004476</td>\n",
       "    </tr>\n",
       "    <tr>\n",
       "      <th>2006-06-12</th>\n",
       "      <td>1.2587</td>\n",
       "      <td>1236.40</td>\n",
       "      <td>114.17</td>\n",
       "      <td>-0.003878</td>\n",
       "      <td>0.002459</td>\n",
       "      <td>-0.012697</td>\n",
       "    </tr>\n",
       "    <tr>\n",
       "      <th>2006-06-13</th>\n",
       "      <td>1.2574</td>\n",
       "      <td>1223.69</td>\n",
       "      <td>115.06</td>\n",
       "      <td>-0.001033</td>\n",
       "      <td>0.007795</td>\n",
       "      <td>-0.010280</td>\n",
       "    </tr>\n",
       "  </tbody>\n",
       "</table>\n",
       "</div>"
      ],
      "text/plain": [
       "              Euro      Spx     Yen   Eurochg    Yenchg    Spxchg\n",
       "2006-06-09  1.2636  1252.30  113.89 -0.000949 -0.002889 -0.004476\n",
       "2006-06-12  1.2587  1236.40  114.17 -0.003878  0.002459 -0.012697\n",
       "2006-06-13  1.2574  1223.69  115.06 -0.001033  0.007795 -0.010280"
      ]
     },
     "execution_count": 27,
     "metadata": {},
     "output_type": "execute_result"
    }
   ],
   "source": [
    "# slice off the first row of df since incomplete data\n",
    "df2 = df[1:]\n",
    "df2[0:3]"
   ]
  },
  {
   "cell_type": "code",
   "execution_count": 28,
   "metadata": {
    "collapsed": false
   },
   "outputs": [
    {
     "name": "stdout",
     "output_type": "stream",
     "text": [
      "Populating the interactive namespace from numpy and matplotlib\n"
     ]
    },
    {
     "data": {
      "text/plain": [
       "<matplotlib.collections.PathCollection at 0xbc5ff28>"
      ]
     },
     "execution_count": 28,
     "metadata": {},
     "output_type": "execute_result"
    },
    {
     "data": {
      "image/png": "[encoded data removed]",
      "text/plain": [
       "<matplotlib.figure.Figure at 0xa454710>"
      ]
     },
     "metadata": {},
     "output_type": "display_data"
    }
   ],
   "source": [
    "# HOW CAN I MAKE MORE ILLUSTRATIVE/USEFUL CHARTS THAN THIS??\n",
    "# plotting Yenchg vs Spxchg\n",
    "%pylab inline\n",
    "subplot(131)\n",
    "scatter(df2['Eurochg'],df2['Spxchg'])\n",
    "subplot(132)\n",
    "scatter((df2['Eurochg']-df2['Yenchg']),df2['Spxchg'])\n",
    "subplot(133)\n",
    "scatter(df2['Eurochg'],df2['Yenchg'])"
   ]
  },
  {
   "cell_type": "markdown",
   "metadata": {},
   "source": [
    "### Basic Model Fitting\n",
    "Create a **training set** and a **test** set"
   ]
  },
  {
   "cell_type": "code",
   "execution_count": 30,
   "metadata": {
    "collapsed": false
   },
   "outputs": [],
   "source": [
    "Y = df2['Spxchg']\n",
    "X = (df2['Eurochg']-df2['Yenchg'])\n",
    "half = int(floor(len(Y)/2))\n",
    "train_X = X.iloc[:half]\n",
    "train_Y = Y.iloc[:half]\n",
    "test_X = X.iloc[half:]\n",
    "test_Y = Y.iloc[half:]\n",
    "# reshape the data\n",
    "X_train_reshape = train_X[:,None]\n",
    "X_test_reshape = test_X[:,None]\n",
    "Y_train_reshape = train_Y[:,None]\n",
    "Y_test_reshape = test_Y[:,None]"
   ]
  },
  {
   "cell_type": "markdown",
   "metadata": {},
   "source": [
    "#### Linear Regression"
   ]
  },
  {
   "cell_type": "code",
   "execution_count": 34,
   "metadata": {
    "collapsed": false
   },
   "outputs": [
    {
     "data": {
      "text/plain": [
       "LinearRegression(copy_X=True, fit_intercept=True, n_jobs=-1, normalize=False)"
      ]
     },
     "execution_count": 34,
     "metadata": {},
     "output_type": "execute_result"
    }
   ],
   "source": [
    "from sklearn import linear_model\n",
    "clf = linear_model.LinearRegression(n_jobs=-1)\n",
    "clf"
   ]
  },
  {
   "cell_type": "code",
   "execution_count": 35,
   "metadata": {
    "collapsed": false
   },
   "outputs": [
    {
     "name": "stdout",
     "output_type": "stream",
     "text": [
      "(9.936410591250402e-05, -0.011824214061817218)\n"
     ]
    }
   ],
   "source": [
    "# fit the model\n",
    "clf.fit(X_train_reshape, Y_train_reshape)\n",
    "# now do the prediction\n",
    "Y_lr_pred = clf.predict(X_test_reshape)\n",
    "# and check our mean squared error:\n",
    "from sklearn.metrics import mean_squared_error\n",
    "mse = mean_squared_error(Y_test_reshape,Y_lr_pred); \n",
    "accuracy = clf.score(X_test_reshape,Y_test_reshape)\n",
    "print(mse, accuracy)"
   ]
  },
  {
   "cell_type": "code",
   "execution_count": 36,
   "metadata": {
    "collapsed": true
   },
   "outputs": [],
   "source": [
    "# create data offset for use in autocorrelation and prediction:\n",
    "def createOffset(x,y,offset=1):\n",
    "    # shifted_x = x[:len(x)-offset]\n",
    "    shifted_x = x[:-offset]\n",
    "    shifted_y = y[offset:]\n",
    "    return shifted_x, shifted_y"
   ]
  },
  {
   "cell_type": "code",
   "execution_count": 37,
   "metadata": {
    "collapsed": false
   },
   "outputs": [],
   "source": [
    "# creating offset for prediction - am I using the right inputs?\n",
    "shiftx, shifty = createOffset(Y_lr_pred,Y_lr_pred,offset=1)"
   ]
  },
  {
   "cell_type": "code",
   "execution_count": 43,
   "metadata": {
    "collapsed": false
   },
   "outputs": [
    {
     "data": {
      "text/plain": [
       "[<matplotlib.lines.Line2D at 0xceae080>]"
      ]
     },
     "execution_count": 43,
     "metadata": {},
     "output_type": "execute_result"
    },
    {
     "data": {
      "image/png": "[encoded data removed]",
      "text/plain": [
       "<matplotlib.figure.Figure at 0xcea1160>"
      ]
     },
     "metadata": {},
     "output_type": "display_data"
    }
   ],
   "source": [
    "# visualize the model - hmm - no LR line - what happened?\n",
    "# model is: y = Ax +b where x is the input and A and b are parameters\n",
    "plot(shiftx, shifty, linestyle='None', marker = '.')\n",
    "#scatter(shiftx, shifty,'o') # how come the scatter & line can't co-exist?\n",
    "# linspace just creating a grid to plot things on\n",
    "plot(linspace(0,20,100), clf.coef_[0,0] *linspace(0,20,100) + clf.intercept_[0])"
   ]
  },
  {
   "cell_type": "code",
   "execution_count": 44,
   "metadata": {
    "collapsed": false
   },
   "outputs": [
    {
     "data": {
      "text/plain": [
       "<matplotlib.collections.LineCollection at 0xd465d30>"
      ]
     },
     "execution_count": 44,
     "metadata": {},
     "output_type": "execute_result"
    },
    {
     "data": {
      "image/png": "[encoded data removed]",
      "text/plain": [
       "<matplotlib.figure.Figure at 0xd130c88>"
      ]
     },
     "metadata": {},
     "output_type": "display_data"
    }
   ],
   "source": [
    "plot(Y_test_reshape,Y_lr_pred - Y_test_reshape, 'o')\n",
    "title(\"Linear Regression Residuals - MSE = %.1f\" % mse)\n",
    "xlabel(\"Forex Moves ???\")\n",
    "ylabel(\"Residual\")\n",
    "hlines(0,min(Y_test_reshape),max(Y_test_reshape),color='red')"
   ]
  },
  {
   "cell_type": "markdown",
   "metadata": {},
   "source": [
    "### k-Nearest Neighbor (KNN) Regression"
   ]
  },
  {
   "cell_type": "code",
   "execution_count": 125,
   "metadata": {
    "collapsed": false
   },
   "outputs": [
    {
     "data": {
      "text/plain": [
       "KNeighborsRegressor(algorithm='auto', leaf_size=30, metric='minkowski',\n",
       "          metric_params=None, n_jobs=1, n_neighbors=5, p=2,\n",
       "          weights='uniform')"
      ]
     },
     "execution_count": 125,
     "metadata": {},
     "output_type": "execute_result"
    }
   ],
   "source": [
    "from sklearn import neighbors\n",
    "from sklearn import preprocessing\n",
    "knn_X_train = preprocessing.scale(X_train_reshape) # many methods work better on scaled X\n",
    "knn_X_test = preprocessing.scale(X_test_reshape)\n",
    "knn_clf = neighbors.KNeighborsRegressor(5) # what's the purpose of the 5?\n",
    "knn_clf.fit(knn_X_train,Y_train_reshape) # am I putting in the right things here?"
   ]
  },
  {
   "cell_type": "code",
   "execution_count": 126,
   "metadata": {
    "collapsed": false
   },
   "outputs": [
    {
     "name": "stdout",
     "output_type": "stream",
     "text": [
      "(0.00014939289215088605, -0.52126710444208957)\n"
     ]
    },
    {
     "data": {
      "text/plain": [
       "<matplotlib.collections.LineCollection at 0xdba62e8>"
      ]
     },
     "execution_count": 126,
     "metadata": {},
     "output_type": "execute_result"
    },
    {
     "data": {
      "image/png": "[encoded data removed]",
      "text/plain": [
       "<matplotlib.figure.Figure at 0xdcc94a8>"
      ]
     },
     "metadata": {},
     "output_type": "display_data"
    }
   ],
   "source": [
    "Y_knn_pred = knn_clf.predict(knn_X_test)\n",
    "knn_mse = mean_squared_error(Y_test_reshape,Y_knn_pred);\n",
    "knn_accuracy = knn_clf.score(knn_X_test,Y_test_reshape)\n",
    "print(knn_mse, knn_accuracy)\n",
    "plot(Y_test_reshape, Y_knn_pred - Y_test_reshape, 'o') # what does the 'o' do?\n",
    "title(\"k-NN Residuals - MSE = %.1f\" % mse)\n",
    "xlabel(\"Forex Moves ??\")\n",
    "ylabel(\"Residual\")\n",
    "hlines(0,min(Y_test_reshape),max(Y_test_reshape),color='red')"
   ]
  },
  {
   "cell_type": "markdown",
   "metadata": {},
   "source": [
    "### Identifying big moves"
   ]
  },
  {
   "cell_type": "code",
   "execution_count": 127,
   "metadata": {
    "collapsed": false
   },
   "outputs": [
    {
     "data": {
      "text/html": [
       "<div>\n",
       "<table border=\"1\" class=\"dataframe\">\n",
       "  <thead>\n",
       "    <tr style=\"text-align: right;\">\n",
       "      <th></th>\n",
       "      <th>Euro</th>\n",
       "      <th>Spx</th>\n",
       "      <th>Yen</th>\n",
       "      <th>Eurochg</th>\n",
       "      <th>Yenchg</th>\n",
       "      <th>Spxchg</th>\n",
       "      <th>Eurorank</th>\n",
       "      <th>Yenrank</th>\n",
       "      <th>Spxrank</th>\n",
       "    </tr>\n",
       "  </thead>\n",
       "  <tbody>\n",
       "    <tr>\n",
       "      <th>2006-06-09</th>\n",
       "      <td>1.2636</td>\n",
       "      <td>1252.30</td>\n",
       "      <td>113.89</td>\n",
       "      <td>-0.000949</td>\n",
       "      <td>-0.002889</td>\n",
       "      <td>-0.004476</td>\n",
       "      <td>1.0</td>\n",
       "      <td>2.0</td>\n",
       "      <td>3.0</td>\n",
       "    </tr>\n",
       "    <tr>\n",
       "      <th>2006-06-12</th>\n",
       "      <td>1.2587</td>\n",
       "      <td>1236.40</td>\n",
       "      <td>114.17</td>\n",
       "      <td>-0.003878</td>\n",
       "      <td>0.002459</td>\n",
       "      <td>-0.012697</td>\n",
       "      <td>2.0</td>\n",
       "      <td>1.0</td>\n",
       "      <td>3.0</td>\n",
       "    </tr>\n",
       "    <tr>\n",
       "      <th>2006-06-13</th>\n",
       "      <td>1.2574</td>\n",
       "      <td>1223.69</td>\n",
       "      <td>115.06</td>\n",
       "      <td>-0.001033</td>\n",
       "      <td>0.007795</td>\n",
       "      <td>-0.010280</td>\n",
       "      <td>2.0</td>\n",
       "      <td>1.0</td>\n",
       "      <td>3.0</td>\n",
       "    </tr>\n",
       "  </tbody>\n",
       "</table>\n",
       "</div>"
      ],
      "text/plain": [
       "              Euro      Spx     Yen   Eurochg    Yenchg    Spxchg  Eurorank  \\\n",
       "2006-06-09  1.2636  1252.30  113.89 -0.000949 -0.002889 -0.004476       1.0   \n",
       "2006-06-12  1.2587  1236.40  114.17 -0.003878  0.002459 -0.012697       2.0   \n",
       "2006-06-13  1.2574  1223.69  115.06 -0.001033  0.007795 -0.010280       2.0   \n",
       "\n",
       "            Yenrank  Spxrank  \n",
       "2006-06-09      2.0      3.0  \n",
       "2006-06-12      1.0      3.0  \n",
       "2006-06-13      1.0      3.0  "
      ]
     },
     "execution_count": 127,
     "metadata": {},
     "output_type": "execute_result"
    }
   ],
   "source": [
    "# get the original dataframe - before all the reshaping I guess?\n",
    "df2[0:3]"
   ]
  },
  {
   "cell_type": "code",
   "execution_count": 128,
   "metadata": {
    "collapsed": false
   },
   "outputs": [
    {
     "data": {
      "text/html": [
       "<div>\n",
       "<table border=\"1\" class=\"dataframe\">\n",
       "  <thead>\n",
       "    <tr style=\"text-align: right;\">\n",
       "      <th></th>\n",
       "      <th>Date</th>\n",
       "      <th>Price</th>\n",
       "    </tr>\n",
       "  </thead>\n",
       "  <tbody>\n",
       "    <tr>\n",
       "      <th>2006-06-08</th>\n",
       "      <td>2006-06-08</td>\n",
       "      <td>1257.93</td>\n",
       "    </tr>\n",
       "    <tr>\n",
       "      <th>2006-06-09</th>\n",
       "      <td>2006-06-09</td>\n",
       "      <td>1252.30</td>\n",
       "    </tr>\n",
       "    <tr>\n",
       "      <th>2006-06-12</th>\n",
       "      <td>2006-06-12</td>\n",
       "      <td>1236.40</td>\n",
       "    </tr>\n",
       "    <tr>\n",
       "      <th>2006-06-13</th>\n",
       "      <td>2006-06-13</td>\n",
       "      <td>1223.69</td>\n",
       "    </tr>\n",
       "    <tr>\n",
       "      <th>2006-06-14</th>\n",
       "      <td>2006-06-14</td>\n",
       "      <td>1230.04</td>\n",
       "    </tr>\n",
       "  </tbody>\n",
       "</table>\n",
       "</div>"
      ],
      "text/plain": [
       "                 Date    Price\n",
       "2006-06-08 2006-06-08  1257.93\n",
       "2006-06-09 2006-06-09  1252.30\n",
       "2006-06-12 2006-06-12  1236.40\n",
       "2006-06-13 2006-06-13  1223.69\n",
       "2006-06-14 2006-06-14  1230.04"
      ]
     },
     "execution_count": 128,
     "metadata": {},
     "output_type": "execute_result"
    }
   ],
   "source": [
    "# Let's just work with spx for now\n",
    "# create new datatframe:\n",
    "spx2 = spxclean.copy()\n",
    "spx2[0:5]"
   ]
  },
  {
   "cell_type": "code",
   "execution_count": 129,
   "metadata": {
    "collapsed": false
   },
   "outputs": [
    {
     "data": {
      "text/html": [
       "<div>\n",
       "<table border=\"1\" class=\"dataframe\">\n",
       "  <thead>\n",
       "    <tr style=\"text-align: right;\">\n",
       "      <th></th>\n",
       "      <th>Date</th>\n",
       "      <th>Price</th>\n",
       "      <th>chg3</th>\n",
       "      <th>chg5</th>\n",
       "      <th>chg16</th>\n",
       "      <th>chg39</th>\n",
       "    </tr>\n",
       "  </thead>\n",
       "  <tbody>\n",
       "    <tr>\n",
       "      <th>2006-08-03</th>\n",
       "      <td>2006-08-03</td>\n",
       "      <td>1280.27</td>\n",
       "      <td>0.002828</td>\n",
       "      <td>0.013513</td>\n",
       "      <td>0.017218</td>\n",
       "      <td>0.017759</td>\n",
       "    </tr>\n",
       "    <tr>\n",
       "      <th>2006-08-04</th>\n",
       "      <td>2006-08-04</td>\n",
       "      <td>1279.36</td>\n",
       "      <td>0.006641</td>\n",
       "      <td>0.000634</td>\n",
       "      <td>0.029840</td>\n",
       "      <td>0.021608</td>\n",
       "    </tr>\n",
       "    <tr>\n",
       "      <th>2006-08-07</th>\n",
       "      <td>2006-08-07</td>\n",
       "      <td>1275.77</td>\n",
       "      <td>-0.002174</td>\n",
       "      <td>-0.000697</td>\n",
       "      <td>0.032009</td>\n",
       "      <td>0.031842</td>\n",
       "    </tr>\n",
       "    <tr>\n",
       "      <th>2006-08-08</th>\n",
       "      <td>2006-08-08</td>\n",
       "      <td>1271.48</td>\n",
       "      <td>-0.006866</td>\n",
       "      <td>0.000441</td>\n",
       "      <td>0.029964</td>\n",
       "      <td>0.039054</td>\n",
       "    </tr>\n",
       "    <tr>\n",
       "      <th>2006-08-09</th>\n",
       "      <td>2006-08-09</td>\n",
       "      <td>1265.95</td>\n",
       "      <td>-0.010482</td>\n",
       "      <td>-0.009855</td>\n",
       "      <td>0.023519</td>\n",
       "      <td>0.029194</td>\n",
       "    </tr>\n",
       "    <tr>\n",
       "      <th>2006-08-10</th>\n",
       "      <td>2006-08-10</td>\n",
       "      <td>1271.81</td>\n",
       "      <td>-0.003104</td>\n",
       "      <td>-0.006608</td>\n",
       "      <td>0.009525</td>\n",
       "      <td>0.012459</td>\n",
       "    </tr>\n",
       "  </tbody>\n",
       "</table>\n",
       "</div>"
      ],
      "text/plain": [
       "                 Date    Price      chg3      chg5     chg16     chg39\n",
       "2006-08-03 2006-08-03  1280.27  0.002828  0.013513  0.017218  0.017759\n",
       "2006-08-04 2006-08-04  1279.36  0.006641  0.000634  0.029840  0.021608\n",
       "2006-08-07 2006-08-07  1275.77 -0.002174 -0.000697  0.032009  0.031842\n",
       "2006-08-08 2006-08-08  1271.48 -0.006866  0.000441  0.029964  0.039054\n",
       "2006-08-09 2006-08-09  1265.95 -0.010482 -0.009855  0.023519  0.029194\n",
       "2006-08-10 2006-08-10  1271.81 -0.003104 -0.006608  0.009525  0.012459"
      ]
     },
     "execution_count": 129,
     "metadata": {},
     "output_type": "execute_result"
    }
   ],
   "source": [
    "# add 3 day, 5 day, 16 day and 39 day rolling pct change\n",
    "spx2['chg3'] = spx2['Price'].pct_change(3)\n",
    "spx2['chg5'] = spx2['Price'].pct_change(5)\n",
    "spx2['chg16'] = spx2['Price'].pct_change(16)\n",
    "spx2['chg39'] = spx2['Price'].pct_change(39)\n",
    "spx2[39:45]"
   ]
  },
  {
   "cell_type": "code",
   "execution_count": 130,
   "metadata": {
    "collapsed": false
   },
   "outputs": [],
   "source": [
    "# identify mean and std of the pct change data\n",
    "# I should probably write a function to iterate through but can't be bothered\n",
    "chg3mean = spx2['chg3'].mean()\n",
    "chg3std = spx2['chg3'].std()\n",
    "chg5mean = spx2['chg5'].mean()\n",
    "chg5std = spx2['chg5'].std()\n",
    "chg16mean = spx2['chg16'].mean()\n",
    "chg16std = spx2['chg16'].std()\n",
    "chg39mean = spx2['chg39'].mean()\n",
    "chg39std = spx2['chg39'].std()"
   ]
  },
  {
   "cell_type": "code",
   "execution_count": 131,
   "metadata": {
    "collapsed": false
   },
   "outputs": [
    {
     "data": {
      "text/plain": [
       "2006-06-13   -0.027219\n",
       "2006-06-14   -0.017775\n",
       "2006-06-15    0.015982\n",
       "2006-06-16    0.022759\n",
       "2006-06-19    0.008211\n",
       "2006-06-20   -0.012769\n",
       "Name: chg3, dtype: float64"
      ]
     },
     "execution_count": 131,
     "metadata": {},
     "output_type": "execute_result"
    }
   ],
   "source": [
    "spx_chg3_df = spx2['chg3']\n",
    "spx_chg3_df = spx_chg3_df[3:]\n",
    "spx_chg3_df[0:6]"
   ]
  },
  {
   "cell_type": "code",
   "execution_count": 132,
   "metadata": {
    "collapsed": false
   },
   "outputs": [],
   "source": [
    "# Now create a dataframe with all of the biggest surges (up) and surges (down) along with their antecedents\n",
    "def findBigMoves(df,stds=2.0):\n",
    "    #takes input of %change as df\n",
    "    results ={}\n",
    "    avg = df.mean()\n",
    "    sdv = df.std()\n",
    "    for idx, item in enumerate(df):\n",
    "        if abs(item) > (avg+(sdv*stds)):\n",
    "            results[idx] = item\n",
    "    return results"
   ]
  },
  {
   "cell_type": "code",
   "execution_count": 133,
   "metadata": {
    "collapsed": false
   },
   "outputs": [
    {
     "data": {
      "text/plain": [
       "{584: -0.10594285098897938,\n",
       " 585: -0.10397278094666262,\n",
       " 586: -0.1390589370700831,\n",
       " 601: 0.12388682090185177,\n",
       " 616: -0.11555686159271228,\n",
       " 619: 0.1394795598320131,\n",
       " 620: 0.10955839156031644,\n",
       " 691: 0.10969210530205609,\n",
       " 1298: -0.11177936112477582}"
      ]
     },
     "execution_count": 133,
     "metadata": {},
     "output_type": "execute_result"
    }
   ],
   "source": [
    "# now how do I get it to return the date as well?\n",
    "bm3 = findBigMoves(spx_chg3_df,stds=5)\n",
    "bm3"
   ]
  },
  {
   "cell_type": "code",
   "execution_count": null,
   "metadata": {
    "collapsed": false
   },
   "outputs": [],
   "source": [
    "# plotting distribution of 3d %chg just for fun - is there a way\n",
    "# to iterate through distributions to see which one matches the best?\n",
    "# and is that a sensible idea?\n",
    "spx2['chg3'].hist(bins=100)\n",
    "plt.axvline(x=chg3mean+chg3std,linewidth=1) # +1 std\n",
    "plt.axvline(x=chg3mean-chg3std,linewidth=1) # -1 std\n",
    "plt.axvline(x=chg3mean+(chg3std*2),linewidth=3) # +2 std\n",
    "plt.axvline(x=chg3mean-(chg3std*2),linewidth=3) # -2 std\n",
    "xlim([-0.1,0.1])"
   ]
  },
  {
   "cell_type": "code",
   "execution_count": 89,
   "metadata": {
    "collapsed": true
   },
   "outputs": [],
   "source": [
    "# now that we can get the big moves, let's try and classify them..."
   ]
  },
  {
   "cell_type": "code",
   "execution_count": null,
   "metadata": {
    "collapsed": true
   },
   "outputs": [],
   "source": []
  }
 ],
 "metadata": {
  "kernelspec": {
   "display_name": "Python 2",
   "language": "python",
   "name": "python2"
  },
  "language_info": {
   "codemirror_mode": {
    "name": "ipython",
    "version": 2
   },
   "file_extension": ".py",
   "mimetype": "text/x-python",
   "name": "python",
   "nbconvert_exporter": "python",
   "pygments_lexer": "ipython2",
   "version": "2.7.11"
  }
 },
 "nbformat": 4,
 "nbformat_minor": 0
}
