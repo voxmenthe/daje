{
 "cells": [
  {
   "cell_type": "code",
   "execution_count": 53,
   "metadata": {
    "collapsed": true
   },
   "outputs": [],
   "source": [
    "import pandas as pd\n",
    "import random"
   ]
  },
  {
   "cell_type": "code",
   "execution_count": 87,
   "metadata": {
    "collapsed": false
   },
   "outputs": [],
   "source": [
    "# clean the text\n",
    "def cleanText(textdump):\n",
    "    import string\n",
    "    \n",
    "    # remove non-ascii characters\n",
    "    textdump = ''.join([i if ord(i) < 128 else ' ' for i in textdump])\n",
    "    \n",
    "    # clean some other stuff\n",
    "    exclude = set([\"\\n\",\"Getty\",\"|\",'\"',\"”\",\"“\",\"]\",\"[\",\"AP Photo\"])\n",
    "    textdump = ''.join(item for item in textdump if item not in exclude)\n",
    "    \n",
    "    # add space after periods\n",
    "    textdump = string.replace(textdump, '.', '. ')\n",
    "    textdump = string.replace(textdump, 'Getty', '')\n",
    "    textdump = string.replace(textdump, '/POLITICO', '')\n",
    "    textdump = string.replace(textdump, 'AP Photo', '')\n",
    "    \n",
    "    return textdump"
   ]
  },
  {
   "cell_type": "code",
   "execution_count": 88,
   "metadata": {
    "collapsed": false
   },
   "outputs": [],
   "source": [
    "# load saved text from file\n",
    "with open(\"politicocleaned.txt\", \"r\") as imported:\n",
    "    allpoliticotext = imported.read()\n",
    "    imported.close()"
   ]
  },
  {
   "cell_type": "code",
   "execution_count": 89,
   "metadata": {
    "collapsed": true
   },
   "outputs": [],
   "source": [
    "def getNgramDist2(text,n):\n",
    "    # return {ngram: {followon word: counts), ...} from corpus text.\n",
    "    result = {}\n",
    "    spltext = text.split()\n",
    "    if n < 1:\n",
    "        raiseValueError('n must be greater than 1')\n",
    "    for i in range(len(spltext)):\n",
    "        if i + n + 1 < len(spltext):\n",
    "            words = spltext[i:i+n+1]\n",
    "            ngram = ' '.join(words[:-1])\n",
    "            followon = words[-1]\n",
    "            if ngram in result:\n",
    "                if followon in result[ngram]:\n",
    "                    result[ngram][followon] += 1\n",
    "                else:\n",
    "                    result[ngram][followon] = 1\n",
    "            else:\n",
    "                result[ngram] = {}\n",
    "                result[ngram][followon] = 1                    \n",
    "    return result"
   ]
  },
  {
   "cell_type": "code",
   "execution_count": 90,
   "metadata": {
    "collapsed": true
   },
   "outputs": [],
   "source": [
    "allpoliticotext = cleanText(allpoliticotext)\n",
    "Ngram1Dist = getNgramDist2(allpoliticotext,1)\n",
    "Ngram2Dist = getNgramDist2(allpoliticotext,2)\n",
    "Ngram3Dist = getNgramDist2(allpoliticotext,3)\n",
    "Ngram4Dist = getNgramDist2(allpoliticotext,4)"
   ]
  },
  {
   "cell_type": "code",
   "execution_count": 68,
   "metadata": {
    "collapsed": false
   },
   "outputs": [
    {
     "data": {
      "text/plain": [
       "['a', 'him', 'in', 'an', 'armed', 'its']"
      ]
     },
     "execution_count": 68,
     "metadata": {},
     "output_type": "execute_result"
    }
   ],
   "source": [
    "#Ngram2Dist.keys()\n",
    "Ngram2Dist['called for'].keys()\n",
    "#Ngram2Dist['called for'].values()\n",
    "#Ngram2Dist"
   ]
  },
  {
   "cell_type": "code",
   "execution_count": 91,
   "metadata": {
    "collapsed": false
   },
   "outputs": [],
   "source": [
    "# generate string of markov text taking distribution\n",
    "# dictionary and length of output text in words\n",
    "# as inputs\n",
    "def markov_text(dictionary, nwords,ngramlen):\n",
    "    import numpy as np\n",
    "    result = \"\"\n",
    "    if nwords < 1:\n",
    "        raise ValueError('nwords must be greater than 1.')\n",
    "    else:\n",
    "        result = random.choice(dictionary.keys())\n",
    "        nwords -= 1\n",
    "        for i in range(nwords):\n",
    "            \n",
    "            # attempt to generalize beyond 1-grams:\n",
    "            # key = \"\".join(result.split()[-(ngramlen+1):-1])\n",
    "            key = result.split()[-1]\n",
    "            \n",
    "            # create array of follow-on words \n",
    "            words = dictionary[key].keys()\n",
    "            \n",
    "            # put the probabilities for follow-on words in transition matrix\n",
    "            probs = np.array(dictionary[key].values(),dtype=np.float32)\n",
    "            probs /= probs.sum()\n",
    "\n",
    "            # choose the next word based on the transition matrix\n",
    "            newword = np.random.choice(words,p=probs)\n",
    "\n",
    "            result += ' ' + newword\n",
    "    return result"
   ]
  },
  {
   "cell_type": "code",
   "execution_count": 92,
   "metadata": {
    "collapsed": false
   },
   "outputs": [
    {
     "data": {
      "text/plain": [
       "'offstage, Clinton used in Congress. The guilty on the ones that hasn t appear likely intensify the Map Room with Clinton could also bring Islamic State of Israel language that will devote the Supreme Court, he won in Aurora, Colorado, which it back. This is from bleak but as their father remarried. Eighty-four times a signal. David Flaherty, whose favorability numbers among working-class whites. And if implied, lamentations about any soft money in the Ethics Committee is systematic discrimination in there s national tragedy, the internal campaign declined to live within the fallout of the concept of its hand. While'"
      ]
     },
     "execution_count": 92,
     "metadata": {},
     "output_type": "execute_result"
    }
   ],
   "source": [
    "markov_text(Ngram1Dist,100,1)"
   ]
  },
  {
   "cell_type": "code",
   "execution_count": null,
   "metadata": {
    "collapsed": true
   },
   "outputs": [],
   "source": []
  }
 ],
 "metadata": {
  "kernelspec": {
   "display_name": "Python 2",
   "language": "python",
   "name": "python2"
  },
  "language_info": {
   "codemirror_mode": {
    "name": "ipython",
    "version": 2
   },
   "file_extension": ".py",
   "mimetype": "text/x-python",
   "name": "python",
   "nbconvert_exporter": "python",
   "pygments_lexer": "ipython2",
   "version": "2.7.11"
  }
 },
 "nbformat": 4,
 "nbformat_minor": 0
}
