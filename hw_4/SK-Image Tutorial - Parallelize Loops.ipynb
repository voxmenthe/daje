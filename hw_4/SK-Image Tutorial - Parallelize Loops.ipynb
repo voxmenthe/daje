{
 "cells": [
  {
   "cell_type": "code",
   "execution_count": 1,
   "metadata": {
    "collapsed": true
   },
   "outputs": [],
   "source": [
    "from skimage import data, color, util\n",
    "from skimage.restoration import denoise_tv_chambolle\n",
    "from skimage.feature import hog"
   ]
  },
  {
   "cell_type": "code",
   "execution_count": 2,
   "metadata": {
    "collapsed": true
   },
   "outputs": [],
   "source": [
    "def task(image):\n",
    "    # Apply some functions and return an image\n",
    "    image = denoise_tv_chambolle(image[0][0], weight=0.1, multichannel=True)\n",
    "    fd, hog_image = hog(color.rgb2gray(image), orientations=8,\n",
    "                       pixels_per_cell=(16,16), cells_per_block=(1,1),\n",
    "                       visualise=True)\n",
    "    return hog_image"
   ]
  },
  {
   "cell_type": "code",
   "execution_count": 3,
   "metadata": {
    "collapsed": false
   },
   "outputs": [],
   "source": [
    "# Prepare images\n",
    "hubble = data.hubble_deep_field()\n",
    "width = 10\n",
    "pics = util.view_as_windows(\n",
    "    hubble, (width, hubble.shape[1], hubble.shape[2]), step=width)"
   ]
  },
  {
   "cell_type": "code",
   "execution_count": 4,
   "metadata": {
    "collapsed": false
   },
   "outputs": [
    {
     "name": "stdout",
     "output_type": "stream",
     "text": [
      "1 loop, best of 3: 2.38 s per loop\n"
     ]
    }
   ],
   "source": [
    "# time a classic loop:\n",
    "def classic_loop():\n",
    "    for image in pics:\n",
    "        task(image)\n",
    "        \n",
    "%timeit classic_loop()"
   ]
  },
  {
   "cell_type": "code",
   "execution_count": 5,
   "metadata": {
    "collapsed": false
   },
   "outputs": [
    {
     "name": "stdout",
     "output_type": "stream",
     "text": [
      "1 loop, best of 3: 2.38 s per loop\n"
     ]
    }
   ],
   "source": [
    "# or a list comprehension:\n",
    "def comprehension_loop():\n",
    "    [task(image) for image in pics]\n",
    "    \n",
    "%timeit comprehension_loop()"
   ]
  },
  {
   "cell_type": "code",
   "execution_count": 7,
   "metadata": {
    "collapsed": false
   },
   "outputs": [
    {
     "name": "stdout",
     "output_type": "stream",
     "text": [
      "1 loop, best of 3: 857 ms per loop\n"
     ]
    }
   ],
   "source": [
    "# but using joblib we can parallelize loops:\n",
    "# AND IT ACTUALLY SEEMS TO TAKE FOREVER ?????\n",
    "from joblib import Parallel, delayed\n",
    "def joblib_loop():\n",
    "    Parallel(n_jobs=4)(delayed(task)(i) for i in pics)\n",
    "    \n",
    "%timeit joblib_loop()"
   ]
  },
  {
   "cell_type": "code",
   "execution_count": null,
   "metadata": {
    "collapsed": true
   },
   "outputs": [],
   "source": []
  }
 ],
 "metadata": {
  "kernelspec": {
   "display_name": "Python 2",
   "language": "python",
   "name": "python2"
  },
  "language_info": {
   "codemirror_mode": {
    "name": "ipython",
    "version": 2
   },
   "file_extension": ".py",
   "mimetype": "text/x-python",
   "name": "python",
   "nbconvert_exporter": "python",
   "pygments_lexer": "ipython2",
   "version": "2.7.11"
  }
 },
 "nbformat": 4,
 "nbformat_minor": 0
}
