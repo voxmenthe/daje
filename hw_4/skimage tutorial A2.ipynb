{
 "cells": [
  {
   "cell_type": "code",
   "execution_count": 1,
   "metadata": {
    "collapsed": true
   },
   "outputs": [],
   "source": [
    "gene0 = [100, 200, 50, 400]\n",
    "gene1 = [50, 0, 0, 100]\n",
    "gene2 = [350, 100, 50, 200]\n",
    "expression_data = [gene0, gene1, gene2]"
   ]
  },
  {
   "cell_type": "code",
   "execution_count": 2,
   "metadata": {
    "collapsed": false
   },
   "outputs": [
    {
     "name": "stdout",
     "output_type": "stream",
     "text": [
      "[[100 200  50 400]\n",
      " [ 50   0   0 100]\n",
      " [350 100  50 200]]\n"
     ]
    }
   ],
   "source": [
    "import numpy as np\n",
    "a = np.array(expression_data)\n",
    "print(a)"
   ]
  },
  {
   "cell_type": "code",
   "execution_count": 6,
   "metadata": {
    "collapsed": false
   },
   "outputs": [
    {
     "name": "stdout",
     "output_type": "stream",
     "text": [
      "<memory at 0x000001CACF0583A8>\n"
     ]
    }
   ],
   "source": [
    "# prints funny in Python 2\n",
    "print(a.data)"
   ]
  },
  {
   "cell_type": "code",
   "execution_count": 7,
   "metadata": {
    "collapsed": true
   },
   "outputs": [],
   "source": [
    "# is ravel any different from \"flatten\"?\n",
    "abytes = a.ravel().view(dtype=np.uint8)"
   ]
  },
  {
   "cell_type": "code",
   "execution_count": 8,
   "metadata": {
    "collapsed": false
   },
   "outputs": [
    {
     "name": "stdout",
     "output_type": "stream",
     "text": [
      "[100   0   0   0 200   0   0   0  50   0   0   0 144   1   0   0  50   0\n",
      "   0   0   0   0   0   0]\n"
     ]
    }
   ],
   "source": [
    "print(abytes[:24])"
   ]
  },
  {
   "cell_type": "markdown",
   "metadata": {
    "collapsed": false
   },
   "source": [
    "## axis-wise evaluation"
   ]
  },
  {
   "cell_type": "code",
   "execution_count": 13,
   "metadata": {
    "collapsed": false
   },
   "outputs": [],
   "source": [
    "expr = np.load('D:/Dropbox/Prog/Py16/skimage-tutorials/data/expr.npy')"
   ]
  },
  {
   "cell_type": "code",
   "execution_count": 17,
   "metadata": {
    "collapsed": false
   },
   "outputs": [
    {
     "name": "stdout",
     "output_type": "stream",
     "text": [
      "number of elements: 7687500\n",
      "number of dimensions: 2\n",
      "shape: (20500, 375)\n",
      "data type: uint32\n",
      "strides: (4, 82000)\n",
      "flags:   C_CONTIGUOUS : False\n",
      "  F_CONTIGUOUS : True\n",
      "  OWNDATA : False\n",
      "  WRITEABLE : True\n",
      "  ALIGNED : True\n",
      "  UPDATEIFCOPY : False\n"
     ]
    }
   ],
   "source": [
    "# what are strides?\n",
    "def print_info(a):\n",
    "    print('number of elements:', a.size)\n",
    "    print('number of dimensions:', a.ndim)\n",
    "    print('shape:', a.shape)\n",
    "    print('data type:', a.dtype)\n",
    "    print('strides:', a.strides)\n",
    "    print('flags:', a.flags)\n",
    "\n",
    "print_info(expr)"
   ]
  },
  {
   "cell_type": "markdown",
   "metadata": {},
   "source": [
    "This has the raw read count data. However, each sample gets a different number of reads, so we want to normalize by the library size, which is the total number of reads across a column.\n",
    "\n",
    "The np.sum function returns the sum of all the elements of an array. With the axis argument, you can take the sum along the given axis."
   ]
  },
  {
   "cell_type": "code",
   "execution_count": 94,
   "metadata": {
    "collapsed": false
   },
   "outputs": [
    {
     "data": {
      "text/plain": [
       "array([[     0,      0,      0, ...,      0,     18,      0],\n",
       "       [    12,      1,      0, ...,      2,      3,      4],\n",
       "       [ 64134,  52319,  48016, ...,  80938, 105589,  92008],\n",
       "       ..., \n",
       "       [   401,   2518,   1511, ...,   2260,   3574,   3936],\n",
       "       [   458,   2164,    540, ...,    977,   1302,    681],\n",
       "       [     0,      0,      0, ...,     10,      0,      0]], dtype=uint32)"
      ]
     },
     "execution_count": 94,
     "metadata": {},
     "output_type": "execute_result"
    }
   ],
   "source": [
    "expr"
   ]
  },
  {
   "cell_type": "code",
   "execution_count": null,
   "metadata": {
    "collapsed": true
   },
   "outputs": [],
   "source": []
  },
  {
   "cell_type": "code",
   "execution_count": 18,
   "metadata": {
    "collapsed": false
   },
   "outputs": [
    {
     "name": "stdout",
     "output_type": "stream",
     "text": [
      "[ 41539237  50824374  35747651  33532890  48162893  83478927  61652756\n",
      "  56043182  50066035  44291909  62103960  52177691  39935196  44712296\n",
      "  49499950  54994779  64874312  41901128  61124396  74947233  55805778\n",
      "  44751480  57419892  45460279  58590618  75900141  79022684  51253368\n",
      "  63148322  64114541  53696942  50946576  55709927  60184139  73887491\n",
      "  51905092  39721522  42746126  43019952  40435776  57789966  30526018\n",
      "  50488171  59600438  49802751 103219262  80445758  76730579  59996715\n",
      "  70611975  53788477  57967905  50450027  61725636  52939093  48355220\n",
      "  60814140  61419740  52865931  42718020  47981997  50989994  55265609\n",
      "  57268101  37174525  65469319  69459796  64633280  52550614  52800398\n",
      "  67603908  42568697  54328614  58801154  41408022  55721943  56051351\n",
      "  48906539  30074621  56514800  61685565  45155573  55190918  58239673\n",
      "  51484868  56456500  58897501  41200475  60510647  45186472  48863100\n",
      "  44723293  66857959  43679229  63454731  40459554  44210528  71649897\n",
      "  51052494  55893243  23880954  37930574  50358271  67084571  55954779\n",
      "  60533989  37534918  58268372  69034028  62187943  31471960  60211327\n",
      "  69060349  52800469  54351395  48929065  55783836  57805383  45280443\n",
      "  64365686  51738764  45503686  20805588   6231205  58912016  58382737\n",
      "  55586370  47844506  88199645  45202180  57012734  35536183  66413476\n",
      "  58255198  67400957  63388779  66920588  89665770  54467447  53674778\n",
      "  60489113  64271298  54482571  57945567  58481866  30468523  46520205\n",
      "  43720270  20860933  62291312  76469475  58273889  62758553  69907767\n",
      "  46323880  58981816  57005722  63065832  55354924  53218346  48332445\n",
      "  50847760  45896941  50855098  66765635  53976120  43076562  64591516\n",
      "  70321285  43164571  19972560  60273622  48626910  62192138  56940941\n",
      "  54212832  47915415  60829977  64420702  47877190  21861554  42351337\n",
      "  56078062  58080584  65786195  69711708  35936611  61273004  40872795\n",
      "  42664688  51610919  42895450  65840053  46914753  52775804  48278133\n",
      "  63447113  46209355  46190947  55448740  40136288  61288618  55819950\n",
      "  61874813  51645078  52880150  56670662  41643222  54351160  38218219\n",
      "  20136141  48512044  54430430  40095409  37135634  47338323  47628500\n",
      "  70593750  61983198  33989258  62762404  32312231  54883550  58804271\n",
      "  47618042  43385504  53262000  51775467  77796207  60667212  58663579\n",
      "  48561056  37776295  41013665  61718896  49617862  46246248  53495544\n",
      "  59868475  65570441  57271936  33651719  42949256  56326986  46188444\n",
      "  65338751  63280380  72026286  45558125  65005023  37707710  36690847\n",
      "  36791707  47339679  40636949  47695871  59847402  65956305  59465169\n",
      "  70009556  58111425  60158442  54800853  54455853  68528086  44581634\n",
      "  45475847  66490471  42291085  35965990  41479598  58860157  36363286\n",
      "  43083690  59348176  58854511  41230056  49617871  43539028  65823859\n",
      "  44602672  50578213  57054596  45886960  66240091  66165612  32463206\n",
      "  47864659  52971575  52220505  25097393  70434480  32039712  32819373\n",
      "  58584329  45039848  59657923  49474656  63730127  65560607  47372745\n",
      "  58633031  63905299  54165552  47486106  52398513  45153699  58159323\n",
      "  19581961  66938365  70099565  62639887  34726837  63115934  69049347\n",
      "  66656207  44194958  43770898  63897405  32572188  21661735  40549383\n",
      "  37659411  45886025  64801505  21061525  59949050  31486861  62661761\n",
      "  49585558  61242121  69353546  60024113  58447218  61229433  44275809\n",
      "  64901114  37277569  36078563  44834451  62844105  53060365  66203234\n",
      "  63269672  52694324  61885104  51421981  59063240  43349098  48320365\n",
      "  89431418  40367656  61502892  64771848  36282255  45373426  66499413\n",
      "  56130605  40281506  45002236  55357976  61842699  30509789  43349038\n",
      "  59621075  69058739  67386247  55079081  28732898  56053773  60685111\n",
      "  39380186  45394727  59700010  54182166]\n"
     ]
    }
   ],
   "source": [
    "lib_size = np.sum(expr, axis=0)\n",
    "print(lib_size)"
   ]
  },
  {
   "cell_type": "markdown",
   "metadata": {},
   "source": [
    "### Exercise\n",
    "\n",
    "Generate a 10 x 3 array of random numbers. From each row, pick the number closest to 0.75. Make use of np.abs and np.argmax to find the column j which contains the closest element in each row."
   ]
  },
  {
   "cell_type": "code",
   "execution_count": 91,
   "metadata": {
    "collapsed": false
   },
   "outputs": [],
   "source": [
    "def getClosest(array,target):\n",
    "    result = []\n",
    "    minindex = np.argmin(np.abs(array - target),axis=1)    \n",
    "    for i in range(len(array)):\n",
    "        result.append(array[i,minindex[i]])\n",
    "    return result"
   ]
  },
  {
   "cell_type": "code",
   "execution_count": 45,
   "metadata": {
    "collapsed": false
   },
   "outputs": [],
   "source": [
    "array10x3 = np.random.random([10,3])\n",
    "diffs = array10x3 - 0.75\n",
    "diffsabs = np.abs(diffs)\n",
    "minidx = np.argmin(diffsabs,axis=1)"
   ]
  },
  {
   "cell_type": "code",
   "execution_count": 46,
   "metadata": {
    "collapsed": false
   },
   "outputs": [
    {
     "data": {
      "text/plain": [
       "array([[ 0.48558535,  0.21020192,  0.63511075],\n",
       "       [ 0.76454302,  0.81943636,  0.10018216],\n",
       "       [ 0.95592314,  0.72222534,  0.81031191],\n",
       "       [ 0.36695484,  0.56145624,  0.73329093],\n",
       "       [ 0.97901876,  0.57137869,  0.9831861 ],\n",
       "       [ 0.4569966 ,  0.50889515,  0.35362152],\n",
       "       [ 0.26787511,  0.10083146,  0.8525218 ],\n",
       "       [ 0.93130173,  0.51674041,  0.86522916],\n",
       "       [ 0.66501989,  0.78175829,  0.58986132],\n",
       "       [ 0.43160573,  0.82424314,  0.58739132]])"
      ]
     },
     "execution_count": 46,
     "metadata": {},
     "output_type": "execute_result"
    }
   ],
   "source": [
    "array10x3"
   ]
  },
  {
   "cell_type": "code",
   "execution_count": 81,
   "metadata": {
    "collapsed": false
   },
   "outputs": [
    {
     "name": "stdout",
     "output_type": "stream",
     "text": [
      "0.635110752285\n",
      "0.764543021686\n",
      "0.722225342352\n",
      "0.733290934954\n",
      "0.571378686364\n",
      "0.50889514593\n",
      "0.852521800253\n",
      "0.865229161415\n",
      "0.78175828538\n",
      "0.824243141309\n"
     ]
    }
   ],
   "source": [
    "result = []\n",
    "for i in range(len(array10x3)):\n",
    "    print(array10x3[i,minidx[i]])"
   ]
  },
  {
   "cell_type": "code",
   "execution_count": 92,
   "metadata": {
    "collapsed": false
   },
   "outputs": [
    {
     "data": {
      "text/plain": [
       "[0.6351107522847016,\n",
       " 0.76454302168622923,\n",
       " 0.72222534235233982,\n",
       " 0.73329093495447861,\n",
       " 0.57137868636432254,\n",
       " 0.5088951459299299,\n",
       " 0.85252180025309021,\n",
       " 0.86522916141532002,\n",
       " 0.78175828538037073,\n",
       " 0.82424314130877607]"
      ]
     },
     "execution_count": 92,
     "metadata": {},
     "output_type": "execute_result"
    }
   ],
   "source": [
    "getClosest(array10x3,0.75)"
   ]
  },
  {
   "cell_type": "code",
   "execution_count": 24,
   "metadata": {
    "collapsed": false
   },
   "outputs": [],
   "source": [
    "sum1 = np.sum(array10x3, axis=1)\n",
    "max1 = np.argmax(array10x3, axis=0)"
   ]
  },
  {
   "cell_type": "code",
   "execution_count": 25,
   "metadata": {
    "collapsed": false
   },
   "outputs": [
    {
     "data": {
      "text/plain": [
       "array([9, 1, 9], dtype=int64)"
      ]
     },
     "execution_count": 25,
     "metadata": {},
     "output_type": "execute_result"
    }
   ],
   "source": [
    "max1"
   ]
  },
  {
   "cell_type": "code",
   "execution_count": 33,
   "metadata": {
    "collapsed": true
   },
   "outputs": [],
   "source": [
    "max2 = np.argmax(array10x3, axis=1)"
   ]
  },
  {
   "cell_type": "code",
   "execution_count": 34,
   "metadata": {
    "collapsed": false
   },
   "outputs": [
    {
     "data": {
      "text/plain": [
       "array([1, 1, 2, 0, 0, 0, 1, 1, 0, 2], dtype=int64)"
      ]
     },
     "execution_count": 34,
     "metadata": {},
     "output_type": "execute_result"
    }
   ],
   "source": [
    "max2"
   ]
  },
  {
   "cell_type": "markdown",
   "metadata": {},
   "source": [
    "## Advanced operations: broadcasting\n",
    "\n",
    "In order to normalize every column by its corresponding library size, we have to *align* the two arrays' axes: each dimension must be either the same size, or one of the arrays must have size 1. Use `np.newaxis` to match the dimensions."
   ]
  },
  {
   "cell_type": "code",
   "execution_count": 93,
   "metadata": {
    "collapsed": false
   },
   "outputs": [
    {
     "name": "stdout",
     "output_type": "stream",
     "text": [
      "(20500, 375)\n",
      "(375,)\n",
      "(1, 375)\n"
     ]
    }
   ],
   "source": [
    "print(expr.shape)\n",
    "print(lib_size.shape)\n",
    "print(lib_size[np.newaxis, :].shape)"
   ]
  },
  {
   "cell_type": "code",
   "execution_count": 96,
   "metadata": {
    "collapsed": false
   },
   "outputs": [],
   "source": [
    "aaz = np.random.random([2,2])"
   ]
  },
  {
   "cell_type": "code",
   "execution_count": 97,
   "metadata": {
    "collapsed": false
   },
   "outputs": [
    {
     "data": {
      "text/plain": [
       "array([[ 0.87266519,  0.71650568],\n",
       "       [ 0.5761493 ,  0.91158316]])"
      ]
     },
     "execution_count": 97,
     "metadata": {},
     "output_type": "execute_result"
    }
   ],
   "source": [
    "aaz"
   ]
  },
  {
   "cell_type": "code",
   "execution_count": 100,
   "metadata": {
    "collapsed": false
   },
   "outputs": [
    {
     "data": {
      "text/plain": [
       "(1, 2, 2)"
      ]
     },
     "execution_count": 100,
     "metadata": {},
     "output_type": "execute_result"
    }
   ],
   "source": [
    "aaz[np.newaxis,:].shape"
   ]
  },
  {
   "cell_type": "code",
   "execution_count": 105,
   "metadata": {
    "collapsed": false
   },
   "outputs": [
    {
     "data": {
      "text/plain": [
       "True"
      ]
     },
     "execution_count": 105,
     "metadata": {},
     "output_type": "execute_result"
    }
   ],
   "source": [
    "#numpy automatically prepends singelton dimensions \n",
    "# until the array shapes match or there is an error\n",
    "np.all(expr / lib_size ==\n",
    "      expr / lib_size[np.newaxis,:])"
   ]
  },
  {
   "cell_type": "code",
   "execution_count": 106,
   "metadata": {
    "collapsed": false
   },
   "outputs": [
    {
     "data": {
      "text/plain": [
       "array([ True, False], dtype=bool)"
      ]
     },
     "execution_count": 106,
     "metadata": {},
     "output_type": "execute_result"
    }
   ],
   "source": [
    "np.all([[True,False],[True,True]], axis=0)"
   ]
  },
  {
   "cell_type": "code",
   "execution_count": 108,
   "metadata": {
    "collapsed": true
   },
   "outputs": [],
   "source": [
    "expr_lib = expr / lib_size\n",
    "# now multiply by 10^6 to keep numbers on readable scale:\n",
    "expr_lib *= 1e6"
   ]
  },
  {
   "cell_type": "markdown",
   "metadata": {},
   "source": [
    "Finally, longer genes are more likely to produce reads. So we normalize by the gene length (in kb) to produce a measure of expression called Reads Per Kilobase per Million reads (RPKM)."
   ]
  },
  {
   "cell_type": "code",
   "execution_count": 111,
   "metadata": {
    "collapsed": false
   },
   "outputs": [
    {
     "name": "stdout",
     "output_type": "stream",
     "text": [
      "(20500,)\n"
     ]
    }
   ],
   "source": [
    "gene_len = np.load('D:/Dropbox/Prog/Py16/skimage-tutorials/data/gene-lens.npy')\n",
    "print(gene_len.shape)"
   ]
  },
  {
   "cell_type": "markdown",
   "metadata": {},
   "source": [
    "### Broadcasting practice"
   ]
  },
  {
   "cell_type": "code",
   "execution_count": 113,
   "metadata": {
    "collapsed": false
   },
   "outputs": [
    {
     "data": {
      "text/plain": [
       "array([ 2.,  4.,  6.])"
      ]
     },
     "execution_count": 113,
     "metadata": {},
     "output_type": "execute_result"
    }
   ],
   "source": [
    "a = np.array([1.0,2.0,3.0])\n",
    "b = 2.0\n",
    "a*b"
   ]
  },
  {
   "cell_type": "markdown",
   "metadata": {},
   "source": [
    "If you have a 256x256x3 array of RGB values, and you want to scale each color in the image by a different value, you can multiply the image by a 1-d array with 3 values. Lining up the sizes of the trailing axes of these arrays according to the broadcast rules, shows that they are compatible:"
   ]
  },
  {
   "cell_type": "code",
   "execution_count": 117,
   "metadata": {
    "collapsed": false
   },
   "outputs": [
    {
     "data": {
      "text/plain": [
       "array([[ 1.,  1.,  1.,  1.],\n",
       "       [ 1.,  1.,  1.,  1.],\n",
       "       [ 1.,  1.,  1.,  1.]])"
      ]
     },
     "execution_count": 117,
     "metadata": {},
     "output_type": "execute_result"
    }
   ],
   "source": [
    "x = np.arange(4)\n",
    "xx = x.reshape(4,1)\n",
    "y = np.ones(5)\n",
    "z = np.ones((3,4))"
   ]
  },
  {
   "cell_type": "code",
   "execution_count": null,
   "metadata": {
    "collapsed": true
   },
   "outputs": [],
   "source": [
    "x + y # gives mismatch error"
   ]
  },
  {
   "cell_type": "code",
   "execution_count": 119,
   "metadata": {
    "collapsed": false
   },
   "outputs": [
    {
     "name": "stdout",
     "output_type": "stream",
     "text": [
      "(4, 1) (5,)\n"
     ]
    }
   ],
   "source": [
    "print(xx.shape,y.shape)"
   ]
  },
  {
   "cell_type": "code",
   "execution_count": 147,
   "metadata": {
    "collapsed": false
   },
   "outputs": [
    {
     "data": {
      "text/plain": [
       "array([[0],\n",
       "       [1],\n",
       "       [2],\n",
       "       [3]])"
      ]
     },
     "execution_count": 147,
     "metadata": {},
     "output_type": "execute_result"
    }
   ],
   "source": [
    "xx"
   ]
  },
  {
   "cell_type": "code",
   "execution_count": 120,
   "metadata": {
    "collapsed": false
   },
   "outputs": [
    {
     "data": {
      "text/plain": [
       "array([[ 1.,  1.,  1.,  1.,  1.],\n",
       "       [ 2.,  2.,  2.,  2.,  2.],\n",
       "       [ 3.,  3.,  3.,  3.,  3.],\n",
       "       [ 4.,  4.,  4.,  4.,  4.]])"
      ]
     },
     "execution_count": 120,
     "metadata": {},
     "output_type": "execute_result"
    }
   ],
   "source": [
    "xx + y"
   ]
  },
  {
   "cell_type": "code",
   "execution_count": 121,
   "metadata": {
    "collapsed": false
   },
   "outputs": [
    {
     "name": "stdout",
     "output_type": "stream",
     "text": [
      "(4,) (3, 4)\n"
     ]
    }
   ],
   "source": [
    "print(x.shape,z.shape)"
   ]
  },
  {
   "cell_type": "code",
   "execution_count": 122,
   "metadata": {
    "collapsed": false
   },
   "outputs": [
    {
     "data": {
      "text/plain": [
       "array([[ 1.,  2.,  3.,  4.],\n",
       "       [ 1.,  2.,  3.,  4.],\n",
       "       [ 1.,  2.,  3.,  4.]])"
      ]
     },
     "execution_count": 122,
     "metadata": {},
     "output_type": "execute_result"
    }
   ],
   "source": [
    "x + z"
   ]
  },
  {
   "cell_type": "markdown",
   "metadata": {},
   "source": [
    "Broadcasting provides a convenient way of taking the outer product (or any other outer operation) of two arrays. The following example shows an outer addition operation of two 1-d arrays:"
   ]
  },
  {
   "cell_type": "code",
   "execution_count": 128,
   "metadata": {
    "collapsed": false
   },
   "outputs": [
    {
     "data": {
      "text/plain": [
       "array([[  1.,   2.,   3.],\n",
       "       [ 11.,  12.,  13.],\n",
       "       [ 21.,  22.,  23.],\n",
       "       [ 31.,  32.,  33.]])"
      ]
     },
     "execution_count": 128,
     "metadata": {},
     "output_type": "execute_result"
    }
   ],
   "source": [
    "a = np.array([0.0, 10.0, 20.0, 30.0])\n",
    "b = np.array([1.0, 2.0, 3.0])\n",
    "# Here the newaxis index operator inserts a new axis into a, making it\n",
    "# a 2-d 4x1 array. Combine with b which has shape (3,1) to make 4x3 array:\n",
    "a[:, np.newaxis] + b"
   ]
  },
  {
   "cell_type": "code",
   "execution_count": 127,
   "metadata": {
    "collapsed": false
   },
   "outputs": [
    {
     "data": {
      "text/plain": [
       "array([[  1.,   2.,   3.],\n",
       "       [ 11.,  12.,  13.],\n",
       "       [ 21.,  22.,  23.],\n",
       "       [ 31.,  32.,  33.]])"
      ]
     },
     "execution_count": 127,
     "metadata": {},
     "output_type": "execute_result"
    }
   ],
   "source": [
    "a1 = a.reshape(4,1)\n",
    "a1 + b"
   ]
  },
  {
   "cell_type": "code",
   "execution_count": 126,
   "metadata": {
    "collapsed": false
   },
   "outputs": [
    {
     "data": {
      "text/plain": [
       "array([  0.,  10.,  20.,  30.])"
      ]
     },
     "execution_count": 126,
     "metadata": {},
     "output_type": "execute_result"
    }
   ],
   "source": []
  },
  {
   "cell_type": "code",
   "execution_count": null,
   "metadata": {
    "collapsed": true
   },
   "outputs": [],
   "source": []
  },
  {
   "cell_type": "markdown",
   "metadata": {},
   "source": [
    "### Exercise: broadcast `expr_lib` and `gene_len` together to produce RPKM"
   ]
  },
  {
   "cell_type": "code",
   "execution_count": 112,
   "metadata": {
    "collapsed": true
   },
   "outputs": [],
   "source": [
    "rpkm = expr_lib # FIX THIS ????"
   ]
  },
  {
   "cell_type": "code",
   "execution_count": null,
   "metadata": {
    "collapsed": true
   },
   "outputs": [],
   "source": [
    "# not really sure how to proceed..."
   ]
  },
  {
   "cell_type": "code",
   "execution_count": 131,
   "metadata": {
    "collapsed": true
   },
   "outputs": [],
   "source": [
    "import matplotlib.pyplot as plt\n",
    "from scipy import stats\n",
    "\n",
    "def plot_col_density(data, xlim=None, *args, **kwargs):\n",
    "    # Use gaussian smoothing to estimate the density\n",
    "    density_per_col = [stats.kde.gaussian_kde(col) for col in data.T]\n",
    "    if xlim is not None:\n",
    "        m, M = xlim\n",
    "    else:\n",
    "        m, M = np.min(data), np.max(data)\n",
    "    x = np.linspace(m, M, 100)\n",
    "    \n",
    "    fig, ax = plt.subplots()\n",
    "    for density in density_per_col:\n",
    "        ax.plot(x, density(x), *args, **kwargs)\n",
    "    ax.set_xlabel('log-counts')\n",
    "    ax.set_ylabel('frequency')\n",
    "    if xlim is not None:\n",
    "        ax.set_xlim(xlim)\n",
    "    plt.show"
   ]
  },
  {
   "cell_type": "code",
   "execution_count": 132,
   "metadata": {
    "collapsed": false
   },
   "outputs": [
    {
     "data": {
      "image/png": "[encoded data removed]",
      "text/plain": [
       "<matplotlib.figure.Figure at 0x1cad28987f0>"
      ]
     },
     "metadata": {},
     "output_type": "display_data"
    }
   ],
   "source": [
    "%matplotlib inline\n",
    "plt.style.use('ggplot')\n",
    "plot_col_density(np.log(expr+1)[:, :20])"
   ]
  },
  {
   "cell_type": "code",
   "execution_count": 133,
   "metadata": {
    "collapsed": false
   },
   "outputs": [
    {
     "data": {
      "image/png": "[encoded data removed]",
      "text/plain": [
       "<matplotlib.figure.Figure at 0x1cad320cc50>"
      ]
     },
     "metadata": {},
     "output_type": "display_data"
    }
   ],
   "source": [
    "plot_col_density(np.log(rpkm + 1)[:, :20], xlim=(0,250))"
   ]
  },
  {
   "cell_type": "markdown",
   "metadata": {},
   "source": [
    "### Exercise: 3D broadcasting\n",
    "\n",
    "Below, produce the array containing the sum of every element in `x` with every element in `y`"
   ]
  },
  {
   "cell_type": "code",
   "execution_count": 149,
   "metadata": {
    "collapsed": false
   },
   "outputs": [
    {
     "data": {
      "text/plain": [
       "array([[[ 7.87766158,  9.87766158,  3.87766158,  3.87766158,  7.87766158,\n",
       "          4.87766158,  4.87766158,  4.87766158],\n",
       "        [ 7.97441771,  9.97441771,  3.97441771,  3.97441771,  7.97441771,\n",
       "          4.97441771,  4.97441771,  4.97441771],\n",
       "        [ 7.06079546,  9.06079546,  3.06079546,  3.06079546,  7.06079546,\n",
       "          4.06079546,  4.06079546,  4.06079546],\n",
       "        [ 7.41148743,  9.41148743,  3.41148743,  3.41148743,  7.41148743,\n",
       "          4.41148743,  4.41148743,  4.41148743],\n",
       "        [ 7.34741061,  9.34741061,  3.34741061,  3.34741061,  7.34741061,\n",
       "          4.34741061,  4.34741061,  4.34741061]],\n",
       "\n",
       "       [[ 7.72950426,  9.72950426,  3.72950426,  3.72950426,  7.72950426,\n",
       "          4.72950426,  4.72950426,  4.72950426],\n",
       "        [ 7.54654697,  9.54654697,  3.54654697,  3.54654697,  7.54654697,\n",
       "          4.54654697,  4.54654697,  4.54654697],\n",
       "        [ 7.06145961,  9.06145961,  3.06145961,  3.06145961,  7.06145961,\n",
       "          4.06145961,  4.06145961,  4.06145961],\n",
       "        [ 7.82559152,  9.82559152,  3.82559152,  3.82559152,  7.82559152,\n",
       "          4.82559152,  4.82559152,  4.82559152],\n",
       "        [ 7.9754137 ,  9.9754137 ,  3.9754137 ,  3.9754137 ,  7.9754137 ,\n",
       "          4.9754137 ,  4.9754137 ,  4.9754137 ]],\n",
       "\n",
       "       [[ 7.42057181,  9.42057181,  3.42057181,  3.42057181,  7.42057181,\n",
       "          4.42057181,  4.42057181,  4.42057181],\n",
       "        [ 7.59615527,  9.59615527,  3.59615527,  3.59615527,  7.59615527,\n",
       "          4.59615527,  4.59615527,  4.59615527],\n",
       "        [ 7.69143423,  9.69143423,  3.69143423,  3.69143423,  7.69143423,\n",
       "          4.69143423,  4.69143423,  4.69143423],\n",
       "        [ 7.99850193,  9.99850193,  3.99850193,  3.99850193,  7.99850193,\n",
       "          4.99850193,  4.99850193,  4.99850193],\n",
       "        [ 7.56160613,  9.56160613,  3.56160613,  3.56160613,  7.56160613,\n",
       "          4.56160613,  4.56160613,  4.56160613]]])"
      ]
     },
     "execution_count": 149,
     "metadata": {},
     "output_type": "execute_result"
    }
   ],
   "source": [
    "x = np.random.rand(3,5)\n",
    "y = np.random.randint(10, size=8)\n",
    "# did I do it right???\n",
    "x[:,:,np.newaxis]+y"
   ]
  },
  {
   "cell_type": "code",
   "execution_count": 160,
   "metadata": {
    "collapsed": false
   },
   "outputs": [],
   "source": [
    "z1 = np.random.randint(100,size=12)\n",
    "z1 = z1.reshape(4,3)\n",
    "ab1 = np.random.random(7)"
   ]
  },
  {
   "cell_type": "code",
   "execution_count": 163,
   "metadata": {
    "collapsed": false
   },
   "outputs": [
    {
     "data": {
      "text/plain": [
       "array([[81, 94, 78],\n",
       "       [15, 93, 32],\n",
       "       [99, 66, 66],\n",
       "       [48, 86, 72]])"
      ]
     },
     "execution_count": 163,
     "metadata": {},
     "output_type": "execute_result"
    }
   ],
   "source": [
    "z1"
   ]
  },
  {
   "cell_type": "code",
   "execution_count": 161,
   "metadata": {
    "collapsed": false
   },
   "outputs": [
    {
     "data": {
      "text/plain": [
       "array([ 0.66289697,  0.7893573 ,  0.86938982,  0.08809963,  0.15298401,\n",
       "        0.70218911,  0.62561031])"
      ]
     },
     "execution_count": 161,
     "metadata": {},
     "output_type": "execute_result"
    }
   ],
   "source": [
    "ab1"
   ]
  },
  {
   "cell_type": "code",
   "execution_count": 162,
   "metadata": {
    "collapsed": false
   },
   "outputs": [
    {
     "data": {
      "text/plain": [
       "array([[[ 81.66289697,  81.7893573 ,  81.86938982,  81.08809963,\n",
       "          81.15298401,  81.70218911,  81.62561031],\n",
       "        [ 94.66289697,  94.7893573 ,  94.86938982,  94.08809963,\n",
       "          94.15298401,  94.70218911,  94.62561031],\n",
       "        [ 78.66289697,  78.7893573 ,  78.86938982,  78.08809963,\n",
       "          78.15298401,  78.70218911,  78.62561031]],\n",
       "\n",
       "       [[ 15.66289697,  15.7893573 ,  15.86938982,  15.08809963,\n",
       "          15.15298401,  15.70218911,  15.62561031],\n",
       "        [ 93.66289697,  93.7893573 ,  93.86938982,  93.08809963,\n",
       "          93.15298401,  93.70218911,  93.62561031],\n",
       "        [ 32.66289697,  32.7893573 ,  32.86938982,  32.08809963,\n",
       "          32.15298401,  32.70218911,  32.62561031]],\n",
       "\n",
       "       [[ 99.66289697,  99.7893573 ,  99.86938982,  99.08809963,\n",
       "          99.15298401,  99.70218911,  99.62561031],\n",
       "        [ 66.66289697,  66.7893573 ,  66.86938982,  66.08809963,\n",
       "          66.15298401,  66.70218911,  66.62561031],\n",
       "        [ 66.66289697,  66.7893573 ,  66.86938982,  66.08809963,\n",
       "          66.15298401,  66.70218911,  66.62561031]],\n",
       "\n",
       "       [[ 48.66289697,  48.7893573 ,  48.86938982,  48.08809963,\n",
       "          48.15298401,  48.70218911,  48.62561031],\n",
       "        [ 86.66289697,  86.7893573 ,  86.86938982,  86.08809963,\n",
       "          86.15298401,  86.70218911,  86.62561031],\n",
       "        [ 72.66289697,  72.7893573 ,  72.86938982,  72.08809963,\n",
       "          72.15298401,  72.70218911,  72.62561031]]])"
      ]
     },
     "execution_count": 162,
     "metadata": {},
     "output_type": "execute_result"
    }
   ],
   "source": [
    "z1[:,:,np.newaxis] + ab1"
   ]
  },
  {
   "cell_type": "markdown",
   "metadata": {},
   "source": [
    "## Fancy indexing\n",
    "\n",
    "You can index arrays with slicing, but also with boolean arrays (including broadcasting!), integer arrays, and individual indices along multiple dimensions."
   ]
  },
  {
   "cell_type": "code",
   "execution_count": 164,
   "metadata": {
    "collapsed": false
   },
   "outputs": [
    {
     "name": "stdout",
     "output_type": "stream",
     "text": [
      "[[2 2 2 1]\n",
      " [1 1 1 1]\n",
      " [1 1 0 0]]\n",
      "[[99 99 99  5]\n",
      " [ 5  5  5  5]\n",
      " [ 5  5  0  0]]\n"
     ]
    }
   ],
   "source": [
    "values = np.array([0,5,99])\n",
    "selector = np.random.randint(0,3, size=(3,4))\n",
    "print(selector)\n",
    "print(values[selector])"
   ]
  },
  {
   "cell_type": "code",
   "execution_count": 166,
   "metadata": {
    "collapsed": false
   },
   "outputs": [
    {
     "data": {
      "text/plain": [
       "array([[2, 2, 2, 1],\n",
       "       [1, 1, 1, 1],\n",
       "       [1, 1, 0, 0]])"
      ]
     },
     "execution_count": 166,
     "metadata": {},
     "output_type": "execute_result"
    }
   ],
   "source": [
    "selector"
   ]
  },
  {
   "cell_type": "markdown",
   "metadata": {},
   "source": [
    "### Exercise: quantile normalization\n",
    "\n",
    "Quantile Normalization(https://en.wikipedia.org/wiki/Quantile_normalization) is a method to align distributions. Implement it using NumPy axis-wise operations and fancy indexing.\n",
    "\n",
    "*Hint: look for documentation for `scipy.mstats.rankdata`, `np.sort`, and `np.argsort`.*"
   ]
  },
  {
   "cell_type": "code",
   "execution_count": null,
   "metadata": {
    "collapsed": true
   },
   "outputs": [],
   "source": []
  }
 ],
 "metadata": {
  "kernelspec": {
   "display_name": "Python 3",
   "language": "python",
   "name": "python3"
  },
  "language_info": {
   "codemirror_mode": {
    "name": "ipython",
    "version": 3
   },
   "file_extension": ".py",
   "mimetype": "text/x-python",
   "name": "python",
   "nbconvert_exporter": "python",
   "pygments_lexer": "ipython3",
   "version": "3.5.1"
  }
 },
 "nbformat": 4,
 "nbformat_minor": 0
}
